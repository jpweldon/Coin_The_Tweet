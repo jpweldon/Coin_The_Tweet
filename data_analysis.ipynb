{
 "cells": [
  {
   "cell_type": "code",
   "execution_count": 2,
   "source": [
    "#import libaries \r\n",
    "import numpy as np\r\n",
    "import pandas as pd\r\n",
    "import hvplot.pandas\r\n",
    "from pathlib import Path"
   ],
   "outputs": [],
   "metadata": {}
  },
  {
   "cell_type": "code",
   "execution_count": null,
   "source": [
    "# Using the Pandas read_csv function and the Path module, reads in the data\r\n",
    "# from the \"Market_Data.csv\" file and create the Pandas DataFrame\r\n",
    "spy_prices_df = pd.read_csv(\r\n",
    "    Path(\"../Resources/Market_Data.csv\")\r\n",
    ")\r\n",
    "\r\n",
    "# Remove all null values from the spy data\r\n",
    "spy_prices_df = data_df.dropna()\r\n",
    "\r\n",
    "# Review the first and last five rows of the DataFrame\r\n",
    "display(spy_prices_df.head())\r\n",
    "display(spy_prices_df.tail())"
   ],
   "outputs": [],
   "metadata": {}
  },
  {
   "cell_type": "code",
   "execution_count": null,
   "source": [
    "crypto_prices_df = pd.read_csv(\r\n",
    "    Path(\"../Resources/Market_Data.csv\")\r\n",
    ")\r\n",
    "\r\n",
    "# Removes all null values from the crypto\r\n",
    "crypto_prices_df = data_df.dropna()\r\n",
    "\r\n",
    "# Review the first and last five rows of the DataFrame\r\n",
    "display(crypto_prices_df.head())\r\n",
    "display(crypto_prices_df.tail())"
   ],
   "outputs": [],
   "metadata": {}
  },
  {
   "cell_type": "code",
   "execution_count": null,
   "source": [
    "# Create the plot for the daily returns spy\r\n",
    "plot_daily_returns_spy = plot_daily_returns_spy.hvplot.bar(\r\n",
    "    title ='Total Daily Returns',\r\n",
    "    color=\"blue\",\r\n",
    "    hover_color = \"yellow\",\r\n",
    "    xlabel='Time',\r\n",
    "    ylabel=\"Total Daily Returns\",\r\n",
    "    rot=90\r\n",
    ").opts(yformatter='%.0f')\r\n",
    "\r\n",
    "# Visualize the plot\r\n",
    "plot_daily_returns_spy"
   ],
   "outputs": [],
   "metadata": {}
  },
  {
   "cell_type": "code",
   "execution_count": null,
   "source": [
    "plot_daily_returns_crypto = plot_daily_returns_crypto.hvplot.bar(\r\n",
    "    title ='Total Daily Crypto Returns',\r\n",
    "    color=\"green\",\r\n",
    "    hover_color = \"yellow\",\r\n",
    "    xlabel='Time',\r\n",
    "    ylabel=\"Total Daily Returns\",\r\n",
    "    rot=90\r\n",
    ").opts(yformatter='%.0f')\r\n",
    "\r\n",
    "# Visualize the plot\r\n",
    "plot_daily_returns_crypto"
   ],
   "outputs": [],
   "metadata": {}
  },
  {
   "cell_type": "code",
   "execution_count": null,
   "source": [
    "# Composes an overlay plot using the '*' operator\r\n",
    "overlay_plot = plot_daily_returns_spy * plot_daily_returns_crypto\r\n",
    "\r\n",
    "# Styles the new overlay plot\r\n",
    "overlay_plot.opts(\r\n",
    "    height= 500,\r\n",
    "    width=1000,\r\n",
    "    xlabel=\"\",\r\n",
    "    ylabel=\"Total Daily Returns\",\r\n",
    "    title =\"Comparison of Crypto Currencies and Market Data\"\r\n",
    "    )"
   ],
   "outputs": [],
   "metadata": {}
  },
  {
   "cell_type": "code",
   "execution_count": null,
   "source": [],
   "outputs": [],
   "metadata": {}
  }
 ],
 "metadata": {
  "kernelspec": {
   "name": "python3",
   "display_name": "Python 3.8.8 64-bit ('dev': conda)"
  },
  "language_info": {
   "codemirror_mode": {
    "name": "ipython",
    "version": 3
   },
   "file_extension": ".py",
   "mimetype": "text/x-python",
   "name": "python",
   "nbconvert_exporter": "python",
   "pygments_lexer": "ipython3",
   "version": "3.8.8"
  },
  "interpreter": {
   "hash": "c3c81e4fab133a59e8acd7c461fd64f2846f09fbab2591d0dce3d17387664a67"
  }
 },
 "nbformat": 4,
 "nbformat_minor": 5
}