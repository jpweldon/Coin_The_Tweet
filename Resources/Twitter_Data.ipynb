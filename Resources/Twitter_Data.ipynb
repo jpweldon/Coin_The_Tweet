{
 "cells": [
  {
   "cell_type": "code",
   "execution_count": null,
   "id": "5daf28df",
   "metadata": {},
   "outputs": [],
   "source": [
    "\n",
    "import snscrape.modules.twitter as sntwitter\n",
    "import pandas as pd\n",
    "import os\n"
   ]
  },
  {
   "cell_type": "code",
   "execution_count": null,
   "id": "9600b21a",
   "metadata": {},
   "outputs": [],
   "source": [
    "# https://github.com/JustAnotherArchivist/snscrape # GitHub Repository of Use"
   ]
  },
  {
   "cell_type": "code",
   "execution_count": null,
   "id": "63ae6622",
   "metadata": {},
   "outputs": [],
   "source": [
    "# Using OS library to call CLI commands in Python\n",
    "# os.system(\"snscrape --jsonl --since 2019-07-01 twitter-search 'Bitcoin until:2021-08-01' > text-query-tweets.json\")\n"
   ]
  },
  {
   "cell_type": "code",
   "execution_count": null,
   "id": "c64c7898",
   "metadata": {},
   "outputs": [],
   "source": [
    "# Reads the json generated from the CLI commands above and creates a pandas dataframe\n",
    "# tweets_df = pd.read_json('text-query-tweets.json', lines=True)\n"
   ]
  },
  {
   "cell_type": "code",
   "execution_count": null,
   "id": "ddb9f0ce",
   "metadata": {},
   "outputs": [],
   "source": [
    "\n",
    "# Creating dictionary to append tweet data to\n",
    "bitcoin_tweets_count = []\n",
    "\n",
    "# Using TwitterSearchScraper to scrape data and append tweets to dictionary\n",
    "for i, tweet in enumerate(sntwitter.TwitterSearchScraper('from:*').get_items()): # Loop through Tweets\n",
    "    if \"Bitcoin\" in tweet.content: # If Tweet includes \"Bitcoin\"\n",
    "        bitcoin_tweets_count.append([tweet.date]) # tweet.id, tweet.date # Append tweet.date # Allows for count later\n",
    "    \n",
    "# Creating a dataframe from the tweets list above \n",
    "bitcoin_tweets_df = pd.DataFrame(bitcoin_tweets_count, columns=['Datetime'])\n",
    "\n",
    "#View the first and last five rows of the Twitter DataFrame\n",
    "display(bitcoin_tweets_df.head())\n",
    "display(bitcoin_tweets_df.tail())\n"
   ]
  },
  {
   "cell_type": "code",
   "execution_count": null,
   "id": "c12e1f51",
   "metadata": {},
   "outputs": [],
   "source": []
  },
  {
   "cell_type": "code",
   "execution_count": null,
   "id": "65eacbc0",
   "metadata": {},
   "outputs": [],
   "source": []
  }
 ],
 "metadata": {
  "kernelspec": {
   "display_name": "Python 3",
   "language": "python",
   "name": "python3"
  },
  "language_info": {
   "codemirror_mode": {
    "name": "ipython",
    "version": 3
   },
   "file_extension": ".py",
   "mimetype": "text/x-python",
   "name": "python",
   "nbconvert_exporter": "python",
   "pygments_lexer": "ipython3",
   "version": "3.9.4"
  }
 },
 "nbformat": 4,
 "nbformat_minor": 5
}
