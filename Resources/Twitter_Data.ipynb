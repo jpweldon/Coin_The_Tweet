{
 "cells": [
  {
   "cell_type": "code",
   "execution_count": null,
   "id": "4dd56e14",
   "metadata": {},
   "outputs": [],
   "source": [
    "\n",
    "import snscrape.modules.twitter as sntwitter\n",
    "import pandas as pd\n",
    "import os\n"
   ]
  },
  {
   "cell_type": "code",
   "execution_count": null,
   "id": "43d8e50f-9b0e-4e7b-8e8a-e8f7d345ca07",
   "metadata": {},
   "outputs": [],
   "source": [
    "# https://github.com/JustAnotherArchivist/snscrape # GitHub Repository of Use"
   ]
  },
  {
   "cell_type": "code",
   "execution_count": null,
   "id": "c69c52a9-65aa-419e-bec9-fdc6ca712656",
   "metadata": {},
   "outputs": [],
   "source": [
    "# Using OS library to call CLI commands in Python\n",
    "# os.system(\"snscrape --jsonl --since 2019-07-01 twitter-search 'Bitcoin until:2021-08-01' > text-query-tweets.json\")\n"
   ]
  },
  {
   "cell_type": "code",
   "execution_count": null,
   "id": "c906698a-148a-4df4-93df-ed3b7f555106",
   "metadata": {},
   "outputs": [],
   "source": [
    "# Reads the json generated from the CLI commands above and creates a pandas dataframe\n",
    "# tweets_df = pd.read_json('text-query-tweets.json', lines=True)\n"
   ]
  },
  {
   "cell_type": "code",
   "execution_count": null,
   "id": "978169ca-1a69-4a92-b9fe-cd819892678c",
   "metadata": {},
   "outputs": [],
   "source": [
    "\n",
    "# Creating dictionary to append tweet data to\n",
    "bitcoin_tweets_count = []\n",
    "\n",
    "# Using TwitterSearchScraper to scrape data and append tweets to dictionary\n",
    "for i, tweet in enumerate(sntwitter.TwitterSearchScraper('from:*').get_items()): # Loop through Tweets\n",
    "    if \"Bitcoin\" in tweet.content: # If Tweet includes \"Bitcoin\"\n",
    "        bitcoin_tweets_count.append([tweet.date]) # tweet.id, tweet.date # Append tweet.date # Allows for count later\n",
    "    \n",
    "# Creating a dataframe from the tweets list above \n",
    "bitcoin_tweets_df = pd.DataFrame(bitcoin_tweets_count, columns=['Datetime'])\n",
    "\n",
    "#View the first and last five rows of the Twitter DataFrame\n",
    "display(bitcoin_tweets_df.head())\n",
    "display(bitcoin_tweets_df.tail())\n"
   ]
  },
  {
   "cell_type": "code",
   "execution_count": null,
   "id": "248e37e5-4d57-4bb1-8abb-c3218dca0f6f",
   "metadata": {},
   "outputs": [],
   "source": []
  },
  {
   "cell_type": "code",
   "execution_count": null,
   "id": "e4803413-1b0e-4e73-a103-5c58e31e4172",
   "metadata": {},
   "outputs": [],
   "source": []
  }
 ],
 "metadata": {
  "kernelspec": {
   "display_name": "Python 3",
   "language": "python",
   "name": "python3"
  },
  "language_info": {
   "codemirror_mode": {
    "name": "ipython",
    "version": 3
   },
   "file_extension": ".py",
   "mimetype": "text/x-python",
   "name": "python",
   "nbconvert_exporter": "python",
   "pygments_lexer": "ipython3",
   "version": "3.9.4"
  }
 },
 "nbformat": 4,
 "nbformat_minor": 5
}
