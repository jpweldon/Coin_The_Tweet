{
 "cells": [
  {
   "cell_type": "code",
   "execution_count": 13,
   "id": "fdadfd46",
   "metadata": {},
   "outputs": [],
   "source": [
    "# Import required libraries and dependencies\n",
    "\n",
    "import pandas as pd\n",
    "import os\n",
    "import json\n",
    "import requests\n",
    "from dotenv import load_dotenv\n",
    "%matplotlib inline\n"
   ]
  },
  {
   "cell_type": "code",
   "execution_count": 14,
   "id": "caf78474",
   "metadata": {},
   "outputs": [
    {
     "data": {
      "text/plain": [
       "True"
      ]
     },
     "execution_count": 14,
     "metadata": {},
     "output_type": "execute_result"
    }
   ],
   "source": [
    "# Load .env enviroment variables into the notebook\n",
    "load_dotenv()"
   ]
  },
  {
   "cell_type": "code",
   "execution_count": 15,
   "id": "4405715d",
   "metadata": {},
   "outputs": [
    {
     "data": {
      "text/plain": [
       "str"
      ]
     },
     "execution_count": 15,
     "metadata": {},
     "output_type": "execute_result"
    }
   ],
   "source": [
    "# Get the API key from the environment variable and store as Python variable\n",
    "quandl_api_key = os.getenv('QUANDL_API_KEY')\n",
    "\n",
    "# Using the type funcion, confirm that the Quandl API key is available for use in the notebook\n",
    "type(quandl_api_key)\n"
   ]
  },
  {
   "cell_type": "code",
   "execution_count": 16,
   "id": "0906915f",
   "metadata": {},
   "outputs": [],
   "source": [
    "# Create `start_date` and `end_date` variables\n",
    "# Both should hold the same date of `2020-07-31`\n",
    "start_date = \"2019-07-01\"\n",
    "end_date = \"2021-07-01\"\n"
   ]
  },
  {
   "cell_type": "code",
   "execution_count": 17,
   "id": "9a6e31c1",
   "metadata": {},
   "outputs": [],
   "source": [
    "# Set the endpoint URL to access the endpoint for the Volatility Index\n",
    "vix = \"https://www.quandl.com/api/v3/datasets/CFTC/1170E1_F_ALL_CR?start_date=\" + start_date + \"&end_date=\" + end_date + \"&api_key=\" + quandl_api_key\n"
   ]
  },
  {
   "cell_type": "code",
   "execution_count": 18,
   "id": "80fcfa52",
   "metadata": {},
   "outputs": [
    {
     "name": "stdout",
     "output_type": "stream",
     "text": [
      "{\n",
      "    \"quandl_error\": {\n",
      "        \"code\": \"QEAx01\",\n",
      "        \"message\": \"We could not recognize your API key: \\u201cWyuqhsbz5uVXJTogtczf\\u201d. Please check your API key and try again. You can find your API key under your account settings.\"\n",
      "    }\n",
      "}\n"
     ]
    }
   ],
   "source": [
    "# Make the API call for the Volatility Index information using requests.get\n",
    "response_vix= requests.get(vix).json()\n",
    "\n",
    "# Print the response data using the json.dumps function.\n",
    "print(json.dumps(response_vix, indent=4, sort_keys=True))\n"
   ]
  },
  {
   "cell_type": "code",
   "execution_count": 19,
   "id": "6bcb5e9e",
   "metadata": {},
   "outputs": [
    {
     "ename": "KeyError",
     "evalue": "'dataset'",
     "output_type": "error",
     "traceback": [
      "\u001b[0;31m---------------------------------------------------------------------------\u001b[0m",
      "\u001b[0;31mKeyError\u001b[0m                                  Traceback (most recent call last)",
      "\u001b[0;32m<ipython-input-19-044c7520c4b5>\u001b[0m in \u001b[0;36m<module>\u001b[0;34m\u001b[0m\n\u001b[1;32m      2\u001b[0m volatility_index_data = {\n\u001b[1;32m      3\u001b[0m     \"dollar_price\": [\n\u001b[0;32m----> 4\u001b[0;31m         \u001b[0mresponse_vix\u001b[0m\u001b[0;34m[\u001b[0m\u001b[0;34m\"dataset\"\u001b[0m\u001b[0;34m]\u001b[0m\u001b[0;34m[\u001b[0m\u001b[0;34m\"data\"\u001b[0m\u001b[0;34m]\u001b[0m\u001b[0;34m[\u001b[0m\u001b[0;36m0\u001b[0m\u001b[0;34m]\u001b[0m\u001b[0;34m[\u001b[0m\u001b[0;36m3\u001b[0m\u001b[0;34m]\u001b[0m\u001b[0;34m\u001b[0m\u001b[0;34m\u001b[0m\u001b[0m\n\u001b[0m\u001b[1;32m      5\u001b[0m     ],\n\u001b[1;32m      6\u001b[0m }\n",
      "\u001b[0;31mKeyError\u001b[0m: 'dataset'"
     ]
    }
   ],
   "source": [
    "# Set the Volatility Index data to create a DataFrame\n",
    "volatility_index_data = {\n",
    "    \"dollar_price\": [\n",
    "        response_vix[\"dataset\"][\"data\"][0][3]\n",
    "    ],\n",
    "}\n",
    "\n",
    "# Create the Volatility Index DataFrame\n",
    "volatility_index_df = pd.DataFrame(volatility_index_data, index=[\"VIX\"])\n",
    "\n",
    "# Diplay the DataFrame data\n",
    "volatility_index_df"
   ]
  },
  {
   "cell_type": "code",
   "execution_count": null,
   "id": "c249de8e",
   "metadata": {},
   "outputs": [],
   "source": []
  }
 ],
 "metadata": {
  "kernelspec": {
   "display_name": "Python 3",
   "language": "python",
   "name": "python3"
  },
  "language_info": {
   "codemirror_mode": {
    "name": "ipython",
    "version": 3
   },
   "file_extension": ".py",
   "mimetype": "text/x-python",
   "name": "python",
   "nbconvert_exporter": "python",
   "pygments_lexer": "ipython3",
   "version": "3.7.10"
  }
 },
 "nbformat": 4,
 "nbformat_minor": 5
}
