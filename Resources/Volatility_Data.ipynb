{
 "cells": [
  {
   "cell_type": "code",
   "execution_count": 9,
   "id": "a4a151bc",
   "metadata": {},
   "outputs": [],
   "source": [
    "# Import required libraries and dependencies\n",
    "\n",
    "import pandas as pd\n",
    "import os\n",
    "import json\n",
    "import requests\n",
    "from dotenv import load_dotenv\n",
    "%matplotlib inline\n"
   ]
  },
  {
   "cell_type": "code",
   "execution_count": 10,
   "id": "6cdf0daa",
   "metadata": {},
   "outputs": [
    {
     "data": {
      "text/plain": [
       "True"
      ]
     },
     "execution_count": 10,
     "metadata": {},
     "output_type": "execute_result"
    }
   ],
   "source": [
    "# Load .env enviroment variables into the notebook\n",
    "load_dotenv()"
   ]
  },
  {
   "cell_type": "code",
   "execution_count": 11,
   "id": "449a7a8f",
   "metadata": {},
   "outputs": [
    {
     "data": {
      "text/plain": [
       "str"
      ]
     },
     "execution_count": 11,
     "metadata": {},
     "output_type": "execute_result"
    }
   ],
   "source": [
    "# Get the API key from the environment variable and store as Python variable\n",
    "quandl_api_key = os.getenv('QUANDL_API_KEY')\n",
    "\n",
    "# Using the type funcion, confirm that the Quandl API key is available for use in the notebook\n",
    "type(quandl_api_key)\n"
   ]
  },
  {
   "cell_type": "code",
   "execution_count": 12,
   "id": "9925055c",
   "metadata": {},
   "outputs": [],
   "source": [
    "# Create `start_date` and `end_date` variables\n",
    "# Both should hold the same date of `2020-07-31`\n",
    "start_date = \"2019-07-01\"\n",
    "end_date = \"2021-07-01\"\n"
   ]
  },
  {
   "cell_type": "code",
   "execution_count": 13,
   "id": "5f88f00b",
   "metadata": {},
   "outputs": [],
   "source": [
    "# Set the endpoint URL to access the endpoint for the Volatility Index\n",
    "vix = \"https://www.quandl.com/api/v3/datasets/CHRIS/CBOE_VX3?start_date=\" + start_date + \"&end_date=\" + end_date + \"&api_key=\" + quandl_api_key\n"
   ]
  },
  {
   "cell_type": "code",
   "execution_count": 35,
   "id": "80cc6ec5",
   "metadata": {},
   "outputs": [],
   "source": [
    "# Make the API call for the Volatility Index information using requests.get\n",
    "response_vix= requests.get(vix).json()\n",
    "\n",
    "# Print the response data using the json.dumps function.\n",
    "# print(json.dumps(response_vix, indent=4, sort_keys=True))\n"
   ]
  },
  {
   "cell_type": "code",
   "execution_count": 44,
   "id": "c75c0087",
   "metadata": {},
   "outputs": [
    {
     "data": {
      "text/html": [
       "<div>\n",
       "<style scoped>\n",
       "    .dataframe tbody tr th:only-of-type {\n",
       "        vertical-align: middle;\n",
       "    }\n",
       "\n",
       "    .dataframe tbody tr th {\n",
       "        vertical-align: top;\n",
       "    }\n",
       "\n",
       "    .dataframe thead th {\n",
       "        text-align: right;\n",
       "    }\n",
       "</style>\n",
       "<table border=\"1\" class=\"dataframe\">\n",
       "  <thead>\n",
       "    <tr style=\"text-align: right;\">\n",
       "      <th></th>\n",
       "      <th>Date</th>\n",
       "      <th>Close</th>\n",
       "    </tr>\n",
       "  </thead>\n",
       "  <tbody>\n",
       "    <tr>\n",
       "      <th>0</th>\n",
       "      <td>2021-06-29</td>\n",
       "      <td>20.9</td>\n",
       "    </tr>\n",
       "    <tr>\n",
       "      <th>1</th>\n",
       "      <td>2021-06-29</td>\n",
       "      <td>20.9</td>\n",
       "    </tr>\n",
       "    <tr>\n",
       "      <th>2</th>\n",
       "      <td>2021-06-29</td>\n",
       "      <td>20.9</td>\n",
       "    </tr>\n",
       "    <tr>\n",
       "      <th>3</th>\n",
       "      <td>2021-06-29</td>\n",
       "      <td>20.9</td>\n",
       "    </tr>\n",
       "    <tr>\n",
       "      <th>4</th>\n",
       "      <td>2021-06-29</td>\n",
       "      <td>20.9</td>\n",
       "    </tr>\n",
       "  </tbody>\n",
       "</table>\n",
       "</div>"
      ],
      "text/plain": [
       "         Date  Close\n",
       "0  2021-06-29   20.9\n",
       "1  2021-06-29   20.9\n",
       "2  2021-06-29   20.9\n",
       "3  2021-06-29   20.9\n",
       "4  2021-06-29   20.9"
      ]
     },
     "metadata": {},
     "output_type": "display_data"
    },
    {
     "data": {
      "text/html": [
       "<div>\n",
       "<style scoped>\n",
       "    .dataframe tbody tr th:only-of-type {\n",
       "        vertical-align: middle;\n",
       "    }\n",
       "\n",
       "    .dataframe tbody tr th {\n",
       "        vertical-align: top;\n",
       "    }\n",
       "\n",
       "    .dataframe thead th {\n",
       "        text-align: right;\n",
       "    }\n",
       "</style>\n",
       "<table border=\"1\" class=\"dataframe\">\n",
       "  <thead>\n",
       "    <tr style=\"text-align: right;\">\n",
       "      <th></th>\n",
       "      <th>Date</th>\n",
       "      <th>Close</th>\n",
       "    </tr>\n",
       "  </thead>\n",
       "  <tbody>\n",
       "    <tr>\n",
       "      <th>499</th>\n",
       "      <td>2021-06-29</td>\n",
       "      <td>20.9</td>\n",
       "    </tr>\n",
       "    <tr>\n",
       "      <th>500</th>\n",
       "      <td>2021-06-29</td>\n",
       "      <td>20.9</td>\n",
       "    </tr>\n",
       "    <tr>\n",
       "      <th>501</th>\n",
       "      <td>2021-06-29</td>\n",
       "      <td>20.9</td>\n",
       "    </tr>\n",
       "    <tr>\n",
       "      <th>502</th>\n",
       "      <td>2021-06-29</td>\n",
       "      <td>20.9</td>\n",
       "    </tr>\n",
       "    <tr>\n",
       "      <th>503</th>\n",
       "      <td>2021-06-29</td>\n",
       "      <td>20.9</td>\n",
       "    </tr>\n",
       "  </tbody>\n",
       "</table>\n",
       "</div>"
      ],
      "text/plain": [
       "           Date  Close\n",
       "499  2021-06-29   20.9\n",
       "500  2021-06-29   20.9\n",
       "501  2021-06-29   20.9\n",
       "502  2021-06-29   20.9\n",
       "503  2021-06-29   20.9"
      ]
     },
     "metadata": {},
     "output_type": "display_data"
    }
   ],
   "source": [
    "# Set the Volatility Index data to create a DataFrame\n",
    "volatility_index_data = {\"Date\":[], \"Close\":[]}\n",
    "\n",
    "for i in response_vix[\"dataset\"][\"data\"]:\n",
    "    volatility_index_data[\"Date\"].append(response_vix[\"dataset\"][\"data\"][0][0])\n",
    "    volatility_index_data[\"Close\"].append(response_vix[\"dataset\"][\"data\"][0][4])\n",
    "    \n",
    "# Create the Volatility Index DataFrame\n",
    "volatility_index_df = pd.DataFrame(volatility_index_data)\n",
    "\n",
    "# Diplay the DataFrame data\n",
    "display(volatility_index_df.head())\n",
    "display(volatility_index_df.tail())\n"
   ]
  },
  {
   "cell_type": "code",
   "execution_count": 45,
   "id": "c0547c38",
   "metadata": {},
   "outputs": [],
   "source": [
    "\n",
    "#volatility_index_data.(\"Trade Date\",\n",
    "#            \"Open\",\n",
    "#            \"High\",\n",
    "#             \"Low\",\n",
    "#             \"Close\",\n",
    "#             \"Settle\",\n",
    "#             \"Change\",\n",
    "#             \"Total Volume\",\n",
    "#             \"EFP\",\n",
    "#             \"Prev. Day Open Interest\")\n",
    "\n"
   ]
  },
  {
   "cell_type": "code",
   "execution_count": null,
   "id": "b0e434c5",
   "metadata": {},
   "outputs": [],
   "source": []
  }
 ],
 "metadata": {
  "kernelspec": {
   "display_name": "Python 3",
   "language": "python",
   "name": "python3"
  },
  "language_info": {
   "codemirror_mode": {
    "name": "ipython",
    "version": 3
   },
   "file_extension": ".py",
   "mimetype": "text/x-python",
   "name": "python",
   "nbconvert_exporter": "python",
   "pygments_lexer": "ipython3",
   "version": "3.7.10"
  }
 },
 "nbformat": 4,
 "nbformat_minor": 5
}
