{
 "cells": [
  {
   "cell_type": "code",
   "execution_count": 1,
   "id": "fdadfd46",
   "metadata": {},
   "outputs": [],
   "source": [
    "# Import required libraries and dependencies\n",
    "\n",
    "import pandas as pd\n",
    "import os\n",
    "import json\n",
    "import requests\n",
    "from dotenv import load_dotenv\n",
    "%matplotlib inline\n"
   ]
  },
  {
   "cell_type": "code",
   "execution_count": 2,
   "id": "caf78474",
   "metadata": {},
   "outputs": [
    {
     "data": {
      "text/plain": [
       "True"
      ]
     },
     "execution_count": 2,
     "metadata": {},
     "output_type": "execute_result"
    }
   ],
   "source": [
    "# Load .env enviroment variables into the notebook\n",
    "load_dotenv()"
   ]
  },
  {
   "cell_type": "code",
   "execution_count": 3,
   "id": "4405715d",
   "metadata": {},
   "outputs": [
    {
     "data": {
      "text/plain": [
       "str"
      ]
     },
     "execution_count": 3,
     "metadata": {},
     "output_type": "execute_result"
    }
   ],
   "source": [
    "# Get the API key from the environment variable and store as Python variable\n",
    "quandl_api_key = os.getenv('quandl_api_key')\n",
    "\n",
    "# Using the type funcion, confirm that the Quandl API key is available for use in the notebook\n",
    "type(quandl_api_key)\n"
   ]
  },
  {
   "cell_type": "code",
   "execution_count": 4,
   "id": "0906915f",
   "metadata": {},
   "outputs": [],
   "source": [
    "# Create `start_date` and `end_date` variables\n",
    "# Both should hold the same date of `2020-07-31`\n",
    "start_date = \"2019-07-01\"\n",
    "end_date = \"2021-07-01\"\n"
   ]
  },
  {
   "cell_type": "code",
   "execution_count": 5,
   "id": "9a6e31c1",
   "metadata": {},
   "outputs": [],
   "source": [
    "# Set the endpoint URL to access the endpoint for the Volatility Index\n",
    "vix = \"https://www.quandl.com/api/v3/datasets/CFTC/1170E1_F_ALL_CR?start_date=\" + start_date + \"&end_date=\" + end_date + \"&api_key=\" + quandl_api_key\n"
   ]
  },
  {
   "cell_type": "code",
   "execution_count": 8,
   "id": "80fcfa52",
   "metadata": {},
   "outputs": [],
   "source": [
    "# Make the API call for the Volatility Index information using requests.get\n",
    "response_vix= requests.get(vix).json()\n",
    "\n",
    "# Print the response data using the json.dumps function.\n",
    "#print(json.dumps(response_vix, indent=4, sort_keys=True))\n"
   ]
  },
  {
   "cell_type": "code",
   "execution_count": 7,
   "id": "6bcb5e9e",
   "metadata": {},
   "outputs": [
    {
     "data": {
      "text/html": [
       "<div>\n",
       "<style scoped>\n",
       "    .dataframe tbody tr th:only-of-type {\n",
       "        vertical-align: middle;\n",
       "    }\n",
       "\n",
       "    .dataframe tbody tr th {\n",
       "        vertical-align: top;\n",
       "    }\n",
       "\n",
       "    .dataframe thead th {\n",
       "        text-align: right;\n",
       "    }\n",
       "</style>\n",
       "<table border=\"1\" class=\"dataframe\">\n",
       "  <thead>\n",
       "    <tr style=\"text-align: right;\">\n",
       "      <th></th>\n",
       "      <th>dollar_price</th>\n",
       "    </tr>\n",
       "  </thead>\n",
       "  <tbody>\n",
       "    <tr>\n",
       "      <th>VIX</th>\n",
       "      <td>55.6</td>\n",
       "    </tr>\n",
       "  </tbody>\n",
       "</table>\n",
       "</div>"
      ],
      "text/plain": [
       "     dollar_price\n",
       "VIX          55.6"
      ]
     },
     "execution_count": 7,
     "metadata": {},
     "output_type": "execute_result"
    }
   ],
   "source": [
    "# Set the Volatility Index data to create a DataFrame\n",
    "volatility_index_data = {\n",
    "    \"dollar_price\": [\n",
    "        response_vix[\"dataset\"][\"data\"][0][3]\n",
    "    ],\n",
    "}\n",
    "\n",
    "# Create the Volatility Index DataFrame\n",
    "volatility_index_df = pd.DataFrame(volatility_index_data, index=[\"VIX\"])\n",
    "\n",
    "# Diplay the DataFrame data\n",
    "volatility_index_df"
   ]
  },
  {
   "cell_type": "code",
   "execution_count": null,
   "id": "c249de8e",
   "metadata": {},
   "outputs": [],
   "source": []
  }
 ],
 "metadata": {
  "kernelspec": {
   "display_name": "Python 3",
   "language": "python",
   "name": "python3"
  },
  "language_info": {
   "codemirror_mode": {
    "name": "ipython",
    "version": 3
   },
   "file_extension": ".py",
   "mimetype": "text/x-python",
   "name": "python",
   "nbconvert_exporter": "python",
   "pygments_lexer": "ipython3",
   "version": "3.9.4"
  }
 },
 "nbformat": 4,
 "nbformat_minor": 5
}
