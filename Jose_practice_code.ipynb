{
 "cells": [
  {
   "cell_type": "code",
   "execution_count": 1,
   "id": "9e537b57-de7c-4a59-9466-d1b9aa470429",
   "metadata": {},
   "outputs": [
    {
     "ename": "ModuleNotFoundError",
     "evalue": "No module named 'cbpro'",
     "output_type": "error",
     "traceback": [
      "\u001b[0;31m---------------------------------------------------------------------------\u001b[0m",
      "\u001b[0;31mModuleNotFoundError\u001b[0m                       Traceback (most recent call last)",
      "\u001b[0;32m<ipython-input-1-165a0267863d>\u001b[0m in \u001b[0;36m<module>\u001b[0;34m\u001b[0m\n\u001b[1;32m      1\u001b[0m \u001b[0;32mimport\u001b[0m \u001b[0mpandas\u001b[0m \u001b[0;32mas\u001b[0m \u001b[0mpd\u001b[0m\u001b[0;34m\u001b[0m\u001b[0;34m\u001b[0m\u001b[0m\n\u001b[0;32m----> 2\u001b[0;31m \u001b[0;32mimport\u001b[0m \u001b[0mcbpro\u001b[0m\u001b[0;34m\u001b[0m\u001b[0;34m\u001b[0m\u001b[0m\n\u001b[0m\u001b[1;32m      3\u001b[0m \u001b[0;32mfrom\u001b[0m \u001b[0mdatetime\u001b[0m \u001b[0;32mimport\u001b[0m \u001b[0mdate\u001b[0m\u001b[0;34m\u001b[0m\u001b[0;34m\u001b[0m\u001b[0m\n\u001b[1;32m      4\u001b[0m \u001b[0;32mimport\u001b[0m \u001b[0mhvplot\u001b[0m\u001b[0;34m\u001b[0m\u001b[0;34m\u001b[0m\u001b[0m\n",
      "\u001b[0;31mModuleNotFoundError\u001b[0m: No module named 'cbpro'"
     ]
    }
   ],
   "source": [
    "import pandas as pd\n",
    "import cbpro\n",
    "from datetime import date\n",
    "import hvplot"
   ]
  },
  {
   "cell_type": "code",
   "execution_count": null,
   "id": "efe2fe15-c3bf-4954-ba61-1a082ce55e3d",
   "metadata": {},
   "outputs": [],
   "source": [
    "c = cbpro.PublicClient()"
   ]
  },
  {
   "cell_type": "code",
   "execution_count": null,
   "id": "f8a3de41-1367-475d-bde8-06aa79969e5e",
   "metadata": {},
   "outputs": [],
   "source": [
    "def pull_historical_data(crypto_pair,crypto_start_date,crypto_end_date):\n",
    "    pulled_data = pd.DataFrame(c.get_product_historic_rates(crypto_pair,granularity=86400, start=crypto_start_date, end=crypto_end_date))\n",
    "    pulled_data.columns= [\"Date\",\"Open\",\"High\",\"Low\",\"Close\",\"Volume\"]\n",
    "    pulled_data['Date'] = pd.to_datetime(pulled_data['Date'], unit='s')\n",
    "    pulled_data.set_index('Date', inplace=True)\n",
    "    pulled_data.sort_values(by='Date', ascending=True, inplace=True)\n",
    "    return(pulled_data)\n"
   ]
  },
  {
   "cell_type": "code",
   "execution_count": null,
   "id": "d362ae74-3e57-46d1-8c1f-5c7841e6d85a",
   "metadata": {},
   "outputs": [],
   "source": [
    "start_date_eth_1 = date(2018,8,1).isoformat() \n",
    "end_date_eth_1 = date(2019,5,1).isoformat()"
   ]
  },
  {
   "cell_type": "code",
   "execution_count": null,
   "id": "556d6d1b-7c0b-45df-af1c-839d030173ee",
   "metadata": {},
   "outputs": [],
   "source": [
    "historical_eth_2018_8_2019_5 = pull_historical_data('ETH-USD', start_date_eth_1, end_date_eth_1)\n",
    "display(historical_eth_2018_8_2019_5.head())\n",
    "display(historical_eth_2018_8_2019_5.tail())"
   ]
  },
  {
   "cell_type": "code",
   "execution_count": null,
   "id": "706025a8-013d-4f2c-b090-f30bcccc1f96",
   "metadata": {},
   "outputs": [],
   "source": [
    "start_date_eth_2 = date(2019,5,2).isoformat()\n",
    "end_date_eth_2 = date(2020,2,1).isoformat()"
   ]
  },
  {
   "cell_type": "code",
   "execution_count": null,
   "id": "055eb661-1313-4757-ae91-e549d9a8f316",
   "metadata": {},
   "outputs": [],
   "source": [
    "historical_eth_2019_5_2020_2 = pull_historical_data('ETH-USD', start_date_eth_2, end_date_eth_2)\n",
    "display(historical_eth_2019_5_2020_2.head())\n",
    "display(historical_eth_2019_5_2020_2.tail())"
   ]
  },
  {
   "cell_type": "code",
   "execution_count": null,
   "id": "60faaf02-1bd8-4520-919a-a51a2574fd5c",
   "metadata": {},
   "outputs": [],
   "source": [
    "start_date_eth_3 = date(2020,2,2).isoformat()\n",
    "end_date_eth_3 = date(2020,8,1).isoformat()"
   ]
  },
  {
   "cell_type": "code",
   "execution_count": null,
   "id": "aa53b1ba-a3f0-45e6-944d-5b20d62afeac",
   "metadata": {},
   "outputs": [],
   "source": [
    "historical_eth_2020_2_2020_8 = pull_historical_data('ETH-USD', start_date_eth_3, end_date_eth_3)\n",
    "display(historical_eth_2020_2_2020_8.head())\n",
    "display(historical_eth_2020_2_2020_8.tail())"
   ]
  },
  {
   "cell_type": "code",
   "execution_count": null,
   "id": "f0d536c6-b564-4582-b311-ca5242379c53",
   "metadata": {},
   "outputs": [],
   "source": [
    "start_date_eth_4 = date(2020,8,2).isoformat()\n",
    "end_date_eth_4 = date(2021,5,1).isoformat()"
   ]
  },
  {
   "cell_type": "code",
   "execution_count": null,
   "id": "25fe8aa7-f588-4a36-8439-535982453466",
   "metadata": {},
   "outputs": [],
   "source": [
    "historical_eth_2020_8_2021_5 = pull_historical_data('ETH-USD', start_date_eth_4, end_date_eth_4)\n",
    "display(historical_eth_2020_8_2021_5.head())\n",
    "display(historical_eth_2020_8_2021_5.tail())"
   ]
  },
  {
   "cell_type": "code",
   "execution_count": null,
   "id": "05a9b02a-caae-49cd-8414-064e019c881b",
   "metadata": {},
   "outputs": [],
   "source": [
    "start_date_eth_5 = date(2021,5,2).isoformat()\n",
    "end_date_eth_5 = date(2021,8,1).isoformat()"
   ]
  },
  {
   "cell_type": "code",
   "execution_count": null,
   "id": "6b34c6b6-0a16-4a6a-ab7c-aebb714ec3e0",
   "metadata": {},
   "outputs": [],
   "source": [
    "historical_eth_2021_5_2021_8 = pull_historical_data('ETH-USD', start_date_eth_5, end_date_eth_5)\n",
    "display(historical_eth_2021_5_2021_8.head())\n",
    "display(historical_eth_2021_5_2021_8.tail())"
   ]
  },
  {
   "cell_type": "code",
   "execution_count": null,
   "id": "08391b89-b8cb-44f0-97e5-2689424e6c0b",
   "metadata": {},
   "outputs": [],
   "source": [
    "start_date_btc_1 = date(2018,8,1).isoformat()\n",
    "end_date_btc_1 = date(2019,5,1).isoformat()"
   ]
  },
  {
   "cell_type": "code",
   "execution_count": null,
   "id": "04ddeed5-e5bf-44eb-a23e-dad36c28b341",
   "metadata": {},
   "outputs": [],
   "source": [
    "historical_btc_2018_8_2019_5 = pull_historical_data('BTC-USD',start_date_btc_1, end_date_btc_1)\n",
    "display(historical_btc_2018_8_2019_5.head())\n",
    "display(historical_btc_2018_8_2019_5.tail())"
   ]
  },
  {
   "cell_type": "code",
   "execution_count": null,
   "id": "59e2ed09-6621-4966-9540-e2cf554c500c",
   "metadata": {},
   "outputs": [],
   "source": [
    "start_date_btc_2 = date(2019,5,2).isoformat()\n",
    "end_date_btc_2 = date(2020,2,1).isoformat()"
   ]
  },
  {
   "cell_type": "code",
   "execution_count": null,
   "id": "b7cc2876-edfd-4f58-999b-60ec6b84653a",
   "metadata": {},
   "outputs": [],
   "source": [
    "historical_btc_2019_5_2020_2 = pull_historical_data('BTC-USD', start_date_btc_2, end_date_btc_2)\n",
    "display(historical_btc_2019_5_2020_2.head())\n",
    "display(historical_btc_2019_5_2020_2.tail())"
   ]
  },
  {
   "cell_type": "code",
   "execution_count": null,
   "id": "76826bd6-e0de-4dfe-8ebc-01d7f1866ddf",
   "metadata": {},
   "outputs": [],
   "source": [
    "start_date_btc_3 = date(2020,2,2).isoformat()\n",
    "end_date_btc_3 = date(2020,8,1).isoformat()"
   ]
  },
  {
   "cell_type": "code",
   "execution_count": null,
   "id": "1842009b-48d0-496b-ace9-bc330f4e88b2",
   "metadata": {},
   "outputs": [],
   "source": [
    "historical_btc_2020_2_2020_8 = pull_historical_data('BTC-USD', start_date_btc_3, end_date_btc_3)\n",
    "display(historical_btc_2020_2_2020_8.head())\n",
    "display(historical_btc_2020_2_2020_8.tail())"
   ]
  },
  {
   "cell_type": "code",
   "execution_count": null,
   "id": "190c288c-144d-4d37-a2af-f48b930e3cf7",
   "metadata": {},
   "outputs": [],
   "source": [
    "start_date_btc_4 = date(2020,8,2).isoformat()\n",
    "end_date_btc_4 = date(2021,5,1).isoformat()"
   ]
  },
  {
   "cell_type": "code",
   "execution_count": null,
   "id": "705f7fce-ebc9-4dde-8eb5-b3d0d54d7bc3",
   "metadata": {},
   "outputs": [],
   "source": [
    "historical_btc_2020_8_2021_5 = pull_historical_data('BTC-USD', start_date_btc_4, end_date_btc_4)\n",
    "display(historical_btc_2020_8_2021_5.head())\n",
    "display(historical_btc_2020_8_2021_5.tail())"
   ]
  },
  {
   "cell_type": "code",
   "execution_count": null,
   "id": "70ba8396-25b3-4054-b6ea-92beca9ad2e3",
   "metadata": {},
   "outputs": [],
   "source": [
    "start_date_btc_5 = date(2021,5,2).isoformat()\n",
    "end_date_btc_5 = date(2021,8,1).isoformat()"
   ]
  },
  {
   "cell_type": "code",
   "execution_count": null,
   "id": "f64d3c6c-1cb7-4a00-b5ee-a5c58fed658d",
   "metadata": {},
   "outputs": [],
   "source": [
    "historical_btc_2021_5_2021_8 = pull_historical_data('BTC-USD', start_date_btc_5, end_date_btc_5)\n",
    "display(historical_btc_2021_5_2021_8.head())\n",
    "display(historical_btc_2021_5_2021_8.tail())"
   ]
  },
  {
   "cell_type": "code",
   "execution_count": null,
   "id": "e515b662-9a17-43ee-976c-a8e6e5a98ee1",
   "metadata": {},
   "outputs": [],
   "source": [
    "start_date_ltc_1 = date(2018,8,1).isoformat()\n",
    "end_date_ltc_1 = date(2019,5,1).isoformat()"
   ]
  },
  {
   "cell_type": "code",
   "execution_count": null,
   "id": "48651183-786e-4434-94c4-061000696615",
   "metadata": {},
   "outputs": [],
   "source": [
    "historical_ltc_2018_8_2019_5 = pull_historical_data('LTC-USD',start_date_ltc_1, end_date_ltc_1)\n",
    "display(historical_ltc_2018_8_2019_5.head())\n",
    "display(historical_ltc_2018_8_2019_5.tail())"
   ]
  },
  {
   "cell_type": "code",
   "execution_count": null,
   "id": "36e45902-b8bd-4f94-bd21-53315f4c43c5",
   "metadata": {},
   "outputs": [],
   "source": [
    "start_date_ltc_2 = date(2019,5,2).isoformat()\n",
    "end_date_ltc_2 = date(2020,2,1).isoformat()"
   ]
  },
  {
   "cell_type": "code",
   "execution_count": null,
   "id": "559f1106-b4e1-49c3-b9a2-35c7012a47df",
   "metadata": {},
   "outputs": [],
   "source": [
    "historical_ltc_2019_5_2020_2 = pull_historical_data('LTC-USD', start_date_ltc_2, end_date_ltc_2)\n",
    "display(historical_ltc_2019_5_2020_2.head())\n",
    "display(historical_ltc_2019_5_2020_2.tail())"
   ]
  },
  {
   "cell_type": "code",
   "execution_count": null,
   "id": "cce78dca-8740-4d2e-93b5-35cc56f80668",
   "metadata": {},
   "outputs": [],
   "source": [
    "start_date_ltc_3 = date(2020,2,2).isoformat()\n",
    "end_date_ltc_3 = date(2020,8,1).isoformat()"
   ]
  },
  {
   "cell_type": "code",
   "execution_count": null,
   "id": "42742889-4c93-412a-a72b-1abd8f8a566f",
   "metadata": {},
   "outputs": [],
   "source": [
    "historical_ltc_2020_2_2020_8 = pull_historical_data('LTC-USD', start_date_ltc_3, end_date_ltc_3)\n",
    "display(historical_ltc_2020_2_2020_8.head())\n",
    "display(historical_ltc_2020_2_2020_8.tail())"
   ]
  },
  {
   "cell_type": "code",
   "execution_count": null,
   "id": "34eae705-f207-4b84-9dfd-99f50ce8e3f5",
   "metadata": {},
   "outputs": [],
   "source": [
    "start_date_ltc_4 = date(2020,8,2).isoformat()\n",
    "end_date_ltc_4 = date(2021,5,1).isoformat()"
   ]
  },
  {
   "cell_type": "code",
   "execution_count": null,
   "id": "e8d48b1d-fbfe-4fde-aefd-c77061308140",
   "metadata": {},
   "outputs": [],
   "source": [
    "historical_ltc_2020_8_2021_5 = pull_historical_data('LTC-USD', start_date_ltc_4, end_date_ltc_4)\n",
    "display(historical_ltc_2020_8_2021_5.head())\n",
    "display(historical_ltc_2020_8_2021_5.tail())"
   ]
  },
  {
   "cell_type": "code",
   "execution_count": null,
   "id": "00182ead-3667-42e7-827f-fcb6ba3b0afb",
   "metadata": {},
   "outputs": [],
   "source": [
    "start_date_ltc_5 = date(2021,5,2).isoformat()\n",
    "end_date_ltc_5 = date(2021,8,1).isoformat()"
   ]
  },
  {
   "cell_type": "code",
   "execution_count": null,
   "id": "2dbb90f6-0878-496a-8495-5dae17fbfff0",
   "metadata": {},
   "outputs": [],
   "source": [
    "historical_ltc_2021_5_2021_8 = pull_historical_data('LTC-USD', start_date_ltc_5, end_date_ltc_5)\n",
    "display(historical_ltc_2021_5_2021_8.head())\n",
    "display(historical_ltc_2021_5_2021_8.tail())"
   ]
  },
  {
   "cell_type": "code",
   "execution_count": null,
   "id": "b6a1efef-051f-44dd-b52f-341a7266b2eb",
   "metadata": {},
   "outputs": [],
   "source": [
    "eth_merge = [historical_eth_2018_8_2019_5, historical_eth_2019_5_2020_2, historical_eth_2020_2_2020_8, historical_eth_2020_8_2021_5, historical_eth_2021_5_2021_8]\n",
    "eth_historic_data_combined = pd.concat(eth_merge)\n",
    "display(eth_historic_data_combined.head())\n",
    "display(eth_historic_data_combined.tail())"
   ]
  },
  {
   "cell_type": "code",
   "execution_count": null,
   "id": "85c172c8-948b-4db7-bafc-6d94a7254956",
   "metadata": {},
   "outputs": [],
   "source": [
    "btc_merge = [historical_btc_2018_8_2019_5, historical_btc_2019_5_2020_2, historical_btc_2020_2_2020_8, historical_btc_2020_8_2021_5, historical_btc_2021_5_2021_8]\n",
    "btc_historic_data_combined = pd.concat(btc_merge)\n",
    "display(btc_historic_data_combined.head())\n",
    "display(btc_historic_data_combined.tail())"
   ]
  },
  {
   "cell_type": "code",
   "execution_count": null,
   "id": "d6e160b3-47c1-4dd0-a392-554554814a39",
   "metadata": {},
   "outputs": [],
   "source": [
    "ltc_merge = [historical_ltc_2018_8_2019_5, historical_ltc_2019_5_2020_2, historical_ltc_2020_2_2020_8, historical_ltc_2020_8_2021_5, historical_ltc_2021_5_2021_8]\n",
    "ltc_historic_data_combined = pd.concat(ltc_merge)\n",
    "display(ltc_historic_data_combined.head())\n",
    "display(ltc_historic_data_combined.tail())"
   ]
  },
  {
   "cell_type": "code",
   "execution_count": null,
   "id": "3003170f-6b4d-453d-981b-5705c1f256e4",
   "metadata": {},
   "outputs": [],
   "source": [
    "crypto_historic_data = pd.concat([btc_historic_data_combined, eth_historic_data_combined, ltc_historic_data_combined], axis= 1)\n"
   ]
  },
  {
   "cell_type": "code",
   "execution_count": null,
   "id": "135d06a2-9387-4717-a392-d9bb1604c7cc",
   "metadata": {},
   "outputs": [],
   "source": [
    "crypto_historic_data.head()"
   ]
  },
  {
   "cell_type": "code",
   "execution_count": null,
   "id": "5abf49b9-017c-4dce-88db-ee1b2fc0eff7",
   "metadata": {},
   "outputs": [],
   "source": [
    "columns = ['Btc_Open', 'Btc_High', 'Btc_Low', 'Btc_Close',\t'Btc_Volume', 'Eth_Open', 'Eth_High', 'Eth_Low', 'Eth_Close', 'Eth_Volume',\t'Ltc_Open',\t'Ltc_High', 'Ltc_low', 'Ltc_Close', 'Ltc_Volume']\n"
   ]
  },
  {
   "cell_type": "code",
   "execution_count": null,
   "id": "09b6c04e-9ade-4127-961b-3f2b45f4a3ab",
   "metadata": {},
   "outputs": [],
   "source": [
    "crypto_historic_data.columns = columns"
   ]
  },
  {
   "cell_type": "code",
   "execution_count": null,
   "id": "c1d22782-b558-4bc7-b9bf-d09a9ce82093",
   "metadata": {},
   "outputs": [],
   "source": [
    "crypto_historic_data.head()"
   ]
  },
  {
   "cell_type": "code",
   "execution_count": null,
   "id": "dbd7cd06-baf4-45b8-aef8-0e03b1ffcf8c",
   "metadata": {},
   "outputs": [],
   "source": [
    "crypto_historic_data.hvplot"
   ]
  },
  {
   "cell_type": "code",
   "execution_count": null,
   "id": "6f4a2b8c-3740-4954-81a4-c61375c3aa4b",
   "metadata": {},
   "outputs": [],
   "source": [
    "btc_daily_price = btc_historic_data_combined[\"Close\"]\n",
    "\n",
    "# .plot(\n",
    "#     figsize = (10,15),\n",
    "#     title = \"BTC Price\"\n",
    "# )"
   ]
  },
  {
   "cell_type": "code",
   "execution_count": null,
   "id": "62b61d17-abc9-4e3a-b400-08431a19c104",
   "metadata": {},
   "outputs": [],
   "source": []
  }
 ],
 "metadata": {
  "kernelspec": {
   "display_name": "dev",
   "language": "python",
   "name": "dev"
  },
  "language_info": {
   "codemirror_mode": {
    "name": "ipython",
    "version": 3
   },
   "file_extension": ".py",
   "mimetype": "text/x-python",
   "name": "python",
   "nbconvert_exporter": "python",
   "pygments_lexer": "ipython3",
   "version": "3.7.10"
  }
 },
 "nbformat": 4,
 "nbformat_minor": 5
}
